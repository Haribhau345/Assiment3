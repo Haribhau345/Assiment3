{
 "cells": [
  {
   "cell_type": "code",
   "execution_count": null,
   "id": "347478e4",
   "metadata": {},
   "outputs": [],
   "source": [
    "#1.Why are functions advantageous to have in your programs?\n",
    "Ans\n",
    "#A function is a block of reusable code that is used to perform a specific action. The advantages of using functions are:\n",
    "#1.Reducing duplication of code\n",
    "#2.Decomposing complex problems into simpler pieces\n",
    "#3.Improving clarity of the code\n",
    "#4.Reuse of code\n",
    "#5.Information hiding\n",
    "#It means that functions have equal status with other objects in Python. \n",
    "#Functions can be assigned to variables, stored in collections, or passed as arguments. \n",
    "#This brings additional flexibility to the language.\n"
   ]
  },
  {
   "cell_type": "code",
   "execution_count": null,
   "id": "edfe7261",
   "metadata": {},
   "outputs": [],
   "source": [
    "#2.When does the code in a function run: when it's specified or when it's called?\n",
    "Ans\n",
    "#A Function in Python is a piece of code which runs when it is referenced. \n",
    "#It is used to utilize the code in more than one place in a program. It is also called method or procedure.\n"
   ]
  },
  {
   "cell_type": "code",
   "execution_count": null,
   "id": "ed785810",
   "metadata": {},
   "outputs": [],
   "source": [
    "#3.What statement creates a function?\n",
    "Ans.\n",
    "#The “def” keyword is a statement for defining a function in Python.\n",
    "\n"
   ]
  },
  {
   "cell_type": "code",
   "execution_count": null,
   "id": "3946715f",
   "metadata": {},
   "outputs": [],
   "source": [
    "#4.What is the difference between a function and a function call?\n",
    "Ans\n",
    "#A function is a code that does a particular operation and returns a result. \n",
    "#It usually accepts inputs as parameters and returns a result. \n",
    "#The parameters are not mandatory. \n",
    "#A function call is the code used to pass control to a function\n"
   ]
  },
  {
   "cell_type": "code",
   "execution_count": null,
   "id": "a3949870",
   "metadata": {},
   "outputs": [],
   "source": [
    "#5.How many global scopes are there in a Python program? How many local scopes?\n",
    "Ans\n",
    "#There's only one global Python scope per program execution.\n",
    "#This scope remains in existence until the program terminates and all its names are forgotten. \n",
    "#Otherwise, the next time you were to run the program, the names would remember their values from the previous run\n"
   ]
  },
  {
   "cell_type": "code",
   "execution_count": null,
   "id": "c99846e2",
   "metadata": {},
   "outputs": [],
   "source": [
    "#6.What happens to variables in a local scope when the function call returns?\n",
    "Ans\n",
    "#When the execution of the function terminates (returns), the local variables are destroyed.\n",
    "#local variables disappear after the function returns.\n"
   ]
  },
  {
   "cell_type": "code",
   "execution_count": null,
   "id": "be1d7b34",
   "metadata": {},
   "outputs": [],
   "source": [
    "#7.What is the concept of a return value? Is it possible to have a return value in an expression?\n",
    "Ans\n",
    "# A return is a value that a function returns to the calling script or function when it completes its task. \n",
    "#A return value can be any one of the four variable types: handle, integer, object, or string.\n",
    "#The type of value your function returns depends largely on the task it performs.\n",
    "#You can use any Python object as a return value. \n",
    "#you can return strings, lists, tuples, dictionaries, functions, classes, instances, user-defined objects, \n",
    "#and even modules or packages.\n"
   ]
  },
  {
   "cell_type": "code",
   "execution_count": null,
   "id": "12a1cb75",
   "metadata": {},
   "outputs": [],
   "source": [
    "#8.If a function does not have a return statement, what is the return value of a call to that function?\n",
    "Ans\n",
    "#If a function doesn't specify a return value, it returns None \n"
   ]
  },
  {
   "cell_type": "code",
   "execution_count": null,
   "id": "47c930f5",
   "metadata": {},
   "outputs": [],
   "source": [
    "#9.How do you make a function variable refer to the global variable?\n",
    "Ans\n",
    "#use the global keyword if you want to change a global variable inside a function.\n"
   ]
  },
  {
   "cell_type": "code",
   "execution_count": null,
   "id": "010b0229",
   "metadata": {},
   "outputs": [],
   "source": [
    "#10.What is the data type of None?\n",
    "Ans\n",
    "#None is a data type of its own (NoneType) and only None can be None\n",
    "#The None keyword is used to define a null value, or no value at all. \n",
    "#None is not the same as 0, False, or an empty string.\n"
   ]
  },
  {
   "cell_type": "code",
   "execution_count": null,
   "id": "f0779f80",
   "metadata": {},
   "outputs": [],
   "source": [
    "#11.What does the sentence import areallyourpetsnamederic do?\n",
    "Ans\n",
    "#That import statement imports a module named areallyourpetsnamederic\n"
   ]
  },
  {
   "cell_type": "code",
   "execution_count": null,
   "id": "ea4d9db4",
   "metadata": {},
   "outputs": [],
   "source": [
    "#12.If you had a bacon() feature in a spam module, what would you call it after importing spam?\n",
    "Ans\n",
    "#This function can be called with spam. bacon()."
   ]
  },
  {
   "cell_type": "code",
   "execution_count": null,
   "id": "8a8a4f62",
   "metadata": {},
   "outputs": [],
   "source": [
    "#13.What can you do to save a programme from crashing if it encounters an error?\n",
    "Ans\n",
    "#we have moved our code inside a try and except statement. \n",
    "#Try running the program and it should throw an error message instead of crashing the program\n"
   ]
  },
  {
   "cell_type": "code",
   "execution_count": null,
   "id": "f8819bc0",
   "metadata": {},
   "outputs": [],
   "source": [
    "#14.What is the purpose of the try clause? What is the purpose of the except clause?\n",
    "Ans\n",
    "#The try clause lets you test a code for errors. The except clause lets you handle the error.\n"
   ]
  }
 ],
 "metadata": {
  "kernelspec": {
   "display_name": "Python 3 (ipykernel)",
   "language": "python",
   "name": "python3"
  },
  "language_info": {
   "codemirror_mode": {
    "name": "ipython",
    "version": 3
   },
   "file_extension": ".py",
   "mimetype": "text/x-python",
   "name": "python",
   "nbconvert_exporter": "python",
   "pygments_lexer": "ipython3",
   "version": "3.9.12"
  }
 },
 "nbformat": 4,
 "nbformat_minor": 5
}
